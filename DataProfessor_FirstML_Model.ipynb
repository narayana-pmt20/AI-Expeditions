{
  "nbformat": 4,
  "nbformat_minor": 0,
  "metadata": {
    "colab": {
      "provenance": [],
      "authorship_tag": "ABX9TyNy6xmPiBDBVxL/hyW53V6S",
      "include_colab_link": true
    },
    "kernelspec": {
      "name": "python3",
      "display_name": "Python 3"
    },
    "language_info": {
      "name": "python"
    }
  },
  "cells": [
    {
      "cell_type": "markdown",
      "metadata": {
        "id": "view-in-github",
        "colab_type": "text"
      },
      "source": [
        "<a href=\"https://colab.research.google.com/github/narayana-pmt20/AI-Expeditions/blob/main/DataProfessor_FirstML_Model.ipynb\" target=\"_parent\"><img src=\"https://colab.research.google.com/assets/colab-badge.svg\" alt=\"Open In Colab\"/></a>"
      ]
    },
    {
      "cell_type": "markdown",
      "source": [
        "## **Data Professor Video**\n",
        "\n",
        "Build your first machine learning model in Python - https://www.youtube.com/watch?v=29ZQ3TDGgRQ\n",
        "\n"
      ],
      "metadata": {
        "id": "LMKYv_esrFDQ"
      }
    }
  ]
}